{
 "cells": [
  {
   "cell_type": "code",
   "execution_count": null,
   "metadata": {},
   "outputs": [],
   "source": [
    "import pandas as pd\n",
    "import numpy as np\n",
    "import matplotlib.pyplot as plt\n",
    "\n",
    "data = pd.read_csv(\"202108_202308_주민등록인구및세대현황_월간.csv\", encoding=\"cp949\")\n",
    "print(data.columns)\n",
    "print(data.index)\n",
    "print(data)\n",
    "\n",
    "# 연도별 행정구역별 거주자 인구\n",
    "print(data.iloc[1, 0])\n",
    "print(data.iloc[1, range(1, len(data.columns), 6)])\n",
    "\n",
    "# 부산진구 가야 제1동 세대당 인구수\n",
    "print(f\"\"\"\n",
    "    {data.query('행정구역.str.contains(\"가야제1동\")')}\n",
    "\"\"\")\n",
    "rowIndex = data.query('행정구역.str.contains(\"가야제1동\")').index.values[0];\n",
    "print(data.iloc[rowIndex, range(3, len(data.columns), 6)])\n",
    "\n",
    "print(data.iloc[14, 0])\n",
    "print(data.iloc[14, range(3, len(data.columns), 6)])"
   ]
  }
 ],
 "metadata": {
  "kernelspec": {
   "display_name": "base",
   "language": "python",
   "name": "python3"
  },
  "language_info": {
   "name": "python",
   "version": "3.11.5"
  },
  "orig_nbformat": 4
 },
 "nbformat": 4,
 "nbformat_minor": 2
}
