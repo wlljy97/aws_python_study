{
 "cells": [
  {
   "cell_type": "code",
   "execution_count": 1,
   "metadata": {},
   "outputs": [],
   "source": [
    "import pandas as pd\n",
    "import matplotlib.pyplot as plt\n"
   ]
  },
  {
   "cell_type": "code",
   "execution_count": 2,
   "metadata": {},
   "outputs": [],
   "source": [
    "data = pd.read_csv(\"202108_202308_주민등록인구및세대현황_월간.csv\", encoding=\"cp949\")"
   ]
  },
  {
   "cell_type": "code",
   "execution_count": null,
   "metadata": {},
   "outputs": [],
   "source": [
    "dataDict = {}\n",
    "for i in range(1, len(data)):\n",
    "    dataDict[data.iloc[i, 0]] = data.iloc[1, range(i, len(data.columns), 6)]\n",
    "\n",
    "print(dataDict)"
   ]
  },
  {
   "cell_type": "code",
   "execution_count": 13,
   "metadata": {},
   "outputs": [
    {
     "ename": "NameError",
     "evalue": "name 'plt' is not defined",
     "output_type": "error",
     "traceback": [
      "\u001b[1;31m---------------------------------------------------------------------------\u001b[0m",
      "\u001b[1;31mNameError\u001b[0m                                 Traceback (most recent call last)",
      "\u001b[1;32mc:\\aws\\python\\basic\\population\\year.ipynb 셀 4\u001b[0m line \u001b[0;36m8\n\u001b[0;32m      <a href='vscode-notebook-cell:/c%3A/aws/python/basic/population/year.ipynb#W4sZmlsZQ%3D%3D?line=4'>5</a>\u001b[0m     \u001b[39mif\u001b[39;00m name \u001b[39min\u001b[39;00m i:\n\u001b[0;32m      <a href='vscode-notebook-cell:/c%3A/aws/python/basic/population/year.ipynb#W4sZmlsZQ%3D%3D?line=5'>6</a>\u001b[0m         findData \u001b[39m=\u001b[39m dataDict\u001b[39m.\u001b[39mget(i)\n\u001b[1;32m----> <a href='vscode-notebook-cell:/c%3A/aws/python/basic/population/year.ipynb#W4sZmlsZQ%3D%3D?line=7'>8</a>\u001b[0m figure \u001b[39m=\u001b[39m plt\u001b[39m.\u001b[39mfigure()\n\u001b[0;32m      <a href='vscode-notebook-cell:/c%3A/aws/python/basic/population/year.ipynb#W4sZmlsZQ%3D%3D?line=8'>9</a>\u001b[0m axes \u001b[39m=\u001b[39m figure\u001b[39m.\u001b[39madd_subplot(\u001b[39m111\u001b[39m)\n\u001b[0;32m     <a href='vscode-notebook-cell:/c%3A/aws/python/basic/population/year.ipynb#W4sZmlsZQ%3D%3D?line=10'>11</a>\u001b[0m axes\u001b[39m.\u001b[39mplot(findData)\n",
      "\u001b[1;31mNameError\u001b[0m: name 'plt' is not defined"
     ]
    }
   ],
   "source": [
    "name = input(\"행정구역을 입력하세요: \")\n",
    "\n",
    "findData = None\n",
    "for i, j in dataDict.items():\n",
    "    if name in i:\n",
    "        findData = dataDict.get(i)\n",
    "\n",
    "print(findData)\n",
    "figure = plt.figure()\n",
    "axes = figure.add_subplot(111)\n",
    "\n",
    "axes.plot(findData)\n",
    "plt.show()\n"
   ]
  }
 ],
 "metadata": {
  "kernelspec": {
   "display_name": "base",
   "language": "python",
   "name": "python3"
  },
  "language_info": {
   "codemirror_mode": {
    "name": "ipython",
    "version": 3
   },
   "file_extension": ".py",
   "mimetype": "text/x-python",
   "name": "python",
   "nbconvert_exporter": "python",
   "pygments_lexer": "ipython3",
   "version": "3.11.5"
  },
  "orig_nbformat": 4
 },
 "nbformat": 4,
 "nbformat_minor": 2
}
