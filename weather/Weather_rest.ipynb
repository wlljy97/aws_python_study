{
 "cells": [
  {
   "cell_type": "code",
   "execution_count": 2,
   "metadata": {},
   "outputs": [
    {
     "name": "stdout",
     "output_type": "stream",
     "text": [
      "b'{\"response\":{\"header\":{\"resultCode\":\"00\",\"resultMsg\":\"NORMAL_SERVICE\"},\"body\":{\"dataType\":\"JSON\",\"items\":{\"item\":[{\"regId\":\"11H20000\",\"rnSt3Am\":40,\"rnSt3Pm\":40,\"rnSt4Am\":30,\"rnSt4Pm\":30,\"rnSt5Am\":30,\"rnSt5Pm\":40,\"rnSt6Am\":40,\"rnSt6Pm\":40,\"rnSt7Am\":40,\"rnSt7Pm\":40,\"rnSt8\":30,\"rnSt9\":40,\"rnSt10\":40,\"wf3Am\":\"\\xea\\xb5\\xac\\xeb\\xa6\\x84\\xeb\\xa7\\x8e\\xec\\x9d\\x8c\",\"wf3Pm\":\"\\xea\\xb5\\xac\\xeb\\xa6\\x84\\xeb\\xa7\\x8e\\xec\\x9d\\x8c\",\"wf4Am\":\"\\xea\\xb5\\xac\\xeb\\xa6\\x84\\xeb\\xa7\\x8e\\xec\\x9d\\x8c\",\"wf4Pm\":\"\\xea\\xb5\\xac\\xeb\\xa6\\x84\\xeb\\xa7\\x8e\\xec\\x9d\\x8c\",\"wf5Am\":\"\\xea\\xb5\\xac\\xeb\\xa6\\x84\\xeb\\xa7\\x8e\\xec\\x9d\\x8c\",\"wf5Pm\":\"\\xed\\x9d\\x90\\xeb\\xa6\\xbc\",\"wf6Am\":\"\\xed\\x9d\\x90\\xeb\\xa6\\xbc\",\"wf6Pm\":\"\\xed\\x9d\\x90\\xeb\\xa6\\xbc\",\"wf7Am\":\"\\xed\\x9d\\x90\\xeb\\xa6\\xbc\",\"wf7Pm\":\"\\xed\\x9d\\x90\\xeb\\xa6\\xbc\",\"wf8\":\"\\xea\\xb5\\xac\\xeb\\xa6\\x84\\xeb\\xa7\\x8e\\xec\\x9d\\x8c\",\"wf9\":\"\\xed\\x9d\\x90\\xeb\\xa6\\xbc\",\"wf10\":\"\\xea\\xb5\\xac\\xeb\\xa6\\x84\\xeb\\xa7\\x8e\\xec\\x9d\\x8c\"}]},\"pageNo\":1,\"numOfRows\":10,\"totalCount\":1}}}'\n",
      "{'response': {'header': {'resultCode': '00', 'resultMsg': 'NORMAL_SERVICE'}, 'body': {'dataType': 'JSON', 'items': {'item': [{'regId': '11H20000', 'rnSt3Am': 40, 'rnSt3Pm': 40, 'rnSt4Am': 30, 'rnSt4Pm': 30, 'rnSt5Am': 30, 'rnSt5Pm': 40, 'rnSt6Am': 40, 'rnSt6Pm': 40, 'rnSt7Am': 40, 'rnSt7Pm': 40, 'rnSt8': 30, 'rnSt9': 40, 'rnSt10': 40, 'wf3Am': '구름많음', 'wf3Pm': '구름많음', 'wf4Am': '구름많음', 'wf4Pm': '구름많음', 'wf5Am': '구름많음', 'wf5Pm': '흐림', 'wf6Am': '흐림', 'wf6Pm': '흐림', 'wf7Am': '흐림', 'wf7Pm': '흐림', 'wf8': '구름많음', 'wf9': '흐림', 'wf10': '구름많음'}]}, 'pageNo': 1, 'numOfRows': 10, 'totalCount': 1}}}\n"
     ]
    }
   ],
   "source": [
    "import requests\n",
    "\n",
    "url = 'http://apis.data.go.kr/1360000/MidFcstInfoService/getMidLandFcst'\n",
    "params ={'serviceKey' : 'RiIQ/RAb64gJ1jKARv7/WL8bs9r310yHMNCwh5F/A5PLHE6pbzxdCXwriJvC/v3roe1JnzXrDMBJyIteOHnb9g==',\n",
    "        'pageNo' : '1', \n",
    "        'numOfRows' : '10', \n",
    "        'dataType' : 'JSON', \n",
    "        'regId' : '11H20000', \n",
    "        'tmFc' : '202309150600' }\n",
    "\n",
    "response = requests.get(url, params=params)\n",
    "response.encoding = \"utf-8\"\n",
    "print(response.content)\n",
    "responseDict = eval(response.content)\n",
    "print(responseDict)"
   ]
  }
 ],
 "metadata": {
  "kernelspec": {
   "display_name": "base",
   "language": "python",
   "name": "python3"
  },
  "language_info": {
   "codemirror_mode": {
    "name": "ipython",
    "version": 3
   },
   "file_extension": ".py",
   "mimetype": "text/x-python",
   "name": "python",
   "nbconvert_exporter": "python",
   "pygments_lexer": "ipython3",
   "version": "3.11.5"
  },
  "orig_nbformat": 4
 },
 "nbformat": 4,
 "nbformat_minor": 2
}
