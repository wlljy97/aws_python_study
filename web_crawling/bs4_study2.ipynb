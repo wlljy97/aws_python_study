{
 "cells": [
  {
   "cell_type": "code",
   "execution_count": 3,
   "metadata": {},
   "outputs": [
    {
     "name": "stdout",
     "output_type": "stream",
     "text": [
      "http://thumbnail10.coupangcdn.com/thumbnails/remote/230x230ex/image/retail/images/3671196941445019-5989f3aa-a942-44e8-bacd-fb4e093aa71c.jpg\n",
      "http://thumbnail6.coupangcdn.com/thumbnails/remote/230x230ex/image/retail/images/4173917782382193-aecaab22-634d-4570-8e6f-0cad29b2149e.jpg\n",
      "http://thumbnail6.coupangcdn.com/thumbnails/remote/230x230ex/image/retail/images/2023/08/11/17/6/ed6a339d-0284-4516-a9e3-65c6c0d13bca.jpg\n",
      "http://thumbnail10.coupangcdn.com/thumbnails/remote/230x230ex/image/product/image/vendoritem/2019/02/15/3025312682/7f05b638-a55a-4037-8e76-1035974e7d86.jpg\n",
      "http://thumbnail9.coupangcdn.com/thumbnails/remote/230x230ex/image/retail/images/2023/08/16/18/1/11edc5e5-d4b8-475d-aacf-df3002e519bc.jpg\n",
      "http://thumbnail7.coupangcdn.com/thumbnails/remote/230x230ex/image/retail/images/1489653006914303-966acf23-cc0e-4c82-86b3-a60ec00416a7.jpg\n",
      "http://thumbnail7.coupangcdn.com/thumbnails/remote/230x230ex/image/retail/images/457539561315-406c6eff-2e95-4b8f-8f07-d916ae3a6b61.jpg\n",
      "http://thumbnail9.coupangcdn.com/thumbnails/remote/230x230ex/image/retail/images/2023/08/11/15/1/62786b28-5dca-407d-a228-92e3aeebc4fd.jpg\n",
      "http://thumbnail10.coupangcdn.com/thumbnails/remote/230x230ex/image/retail/images/702510257453650-55ca429c-1a8e-4385-b70b-1a6dcd0eaffd.jpg\n",
      "http://thumbnail9.coupangcdn.com/thumbnails/remote/230x230ex/image/retail/images/1868430085607403-b15e6f7c-1c9a-427d-b49d-40e5b387a5db.jpg\n",
      "http://thumbnail6.coupangcdn.com/thumbnails/remote/230x230ex/image/retail/images/7537201921766957-699400a0-f754-431d-b18b-a3ebd86423fc.jpg\n",
      "http://thumbnail9.coupangcdn.com/thumbnails/remote/230x230ex/image/retail/images/1066053389089338-5e0dd077-2d91-4609-8f9c-4860cb640c1b.jpg\n"
     ]
    }
   ],
   "source": [
    "import requests\n",
    "from bs4 import BeautifulSoup as bs\n",
    "from urllib.request import urlopen\n",
    "\n",
    "url = \"https://pages.coupang.com/p/96636\"\n",
    "\n",
    "response = requests.get(url)\n",
    "\n",
    "html = bs(response.text)\n",
    "\n",
    "# css 선택자를 사용\n",
    "imgs = html.select(\".sale_point_product__product_image > img\")\n",
    "for img in imgs:\n",
    "    if bool(img.get(\"lazy-load\")):\n",
    "        print(\"http://\" + img.get(\"lazy-load\")[2:])\n",
    "\n",
    "# 태그 이름과 클래스 이름을 직접 지정\n",
    "# find_all은 태그 기준\n",
    "# get을 사용하면 속성 값을 가져 올 수 있음\n",
    "divs = html.find_all(\"div\", class_=\"sale_point_product__product_image\")\n",
    "for img in divs:\n",
    "    img = div.find(\"img\")\n",
    "    if bool(img.get(\"lazy-load\")):\n",
    "        print(\"http://\" + img.get(\"lazy-load\")[2:])"
   ]
  },
  {
   "cell_type": "code",
   "execution_count": 44,
   "metadata": {},
   "outputs": [
    {
     "name": "stdout",
     "output_type": "stream",
     "text": [
      "{'name': '쿤달 퍼퓸 디퓨저 200ml 3개 + 섬유스틱 15개 세트, 블랙체리향', 'img': 'http://thumbnail10.coupangcdn.com/thumbnails/remote/230x230ex/image/retail/images/3671196941445019-5989f3aa-a942-44e8-bacd-fb4e093aa71c.jpg', 'price': '21,520원'}\n",
      "{'name': '설화수 New 자음2종, 1세트', 'img': 'http://thumbnail6.coupangcdn.com/thumbnails/remote/230x230ex/image/retail/images/4173917782382193-aecaab22-634d-4570-8e6f-0cad29b2149e.jpg', 'price': '112,000원'}\n",
      "{'name': '동원 튜나리챔 선물세트 O-68호 + 부직포백, 1세트', 'img': 'http://thumbnail6.coupangcdn.com/thumbnails/remote/230x230ex/image/retail/images/2023/08/11/17/6/ed6a339d-0284-4516-a9e3-65c6c0d13bca.jpg', 'price': '34,900원'}\n",
      "{'name': '넛츠팜 프리미엄 견과 선물세트 4호, 1150g, 1세트', 'img': 'http://thumbnail10.coupangcdn.com/thumbnails/remote/230x230ex/image/product/image/vendoritem/2019/02/15/3025312682/7f05b638-a55a-4037-8e76-1035974e7d86.jpg', 'price': '33,930원'}\n",
      "{'name': '이동갈비 소고기 한입 LA양념갈비 선물세트 (냉동), 500g, 4개', 'img': 'http://thumbnail9.coupangcdn.com/thumbnails/remote/230x230ex/image/retail/images/2023/08/16/18/1/11edc5e5-d4b8-475d-aacf-df3002e519bc.jpg', 'price': '59,600원'}\n",
      "{'name': '종근당 침향환 골드, 225g, 1개', 'img': 'http://thumbnail7.coupangcdn.com/thumbnails/remote/230x230ex/image/retail/images/1489653006914303-966acf23-cc0e-4c82-86b3-a60ec00416a7.jpg', 'price': '58,900원'}\n",
      "{'name': '떡편 감사세트 1호 24개입 (냉동), 1080g, 1세트', 'img': 'http://thumbnail7.coupangcdn.com/thumbnails/remote/230x230ex/image/retail/images/457539561315-406c6eff-2e95-4b8f-8f07-d916ae3a6b61.jpg', 'price': '25,900원'}\n",
      "{'name': '애경 명화의 품격 O-2호 선물세트, 1세트', 'img': 'http://thumbnail9.coupangcdn.com/thumbnails/remote/230x230ex/image/retail/images/2023/08/11/15/1/62786b28-5dca-407d-a228-92e3aeebc4fd.jpg', 'price': '19,450원'}\n",
      "{'name': '코멧 깨끗한 천연펄프 키친타월 150매, 8개', 'img': 'http://thumbnail10.coupangcdn.com/thumbnails/remote/230x230ex/image/retail/images/702510257453650-55ca429c-1a8e-4385-b70b-1a6dcd0eaffd.jpg', 'price': '5,990원'}\n",
      "{'name': '바디프랜드 레그넘 안마의자 + 러그(랜덤발송) 방문설치, BFK-5000, 오트베이지', 'img': 'http://thumbnail9.coupangcdn.com/thumbnails/remote/230x230ex/image/retail/images/1868430085607403-b15e6f7c-1c9a-427d-b49d-40e5b387a5db.jpg', 'price': '1,940,000원'}\n",
      "{'name': '청정원 행복 2호, 1세트', 'img': 'http://thumbnail6.coupangcdn.com/thumbnails/remote/230x230ex/image/retail/images/7537201921766957-699400a0-f754-431d-b18b-a3ebd86423fc.jpg', 'price': '27,440원'}\n",
      "{'name': '타야스 투바나 초콜렛, 1600g, 1개', 'img': 'http://thumbnail9.coupangcdn.com/thumbnails/remote/230x230ex/image/retail/images/1066053389089338-5e0dd077-2d91-4609-8f9c-4860cb640c1b.jpg', 'price': '12,750원'}\n"
     ]
    }
   ],
   "source": [
    "result = []\n",
    "\n",
    "\n",
    "\n",
    "\n",
    "\n",
    "html = bs(response.text)\n",
    "\n",
    "info_titles = []\n",
    "findInfosectionTitle = html.find_all(\"span\", class_=\"info_section__title\")\n",
    "for title in findInfosectionTitle:\n",
    "    info_titles.append(title.text)\n",
    "\n",
    "img_urls = []\n",
    "imgs = html.select(\".sale_point_product__product_image > img\")\n",
    "for img in imgs:\n",
    "    if bool(img.get(\"lazy-load\")):\n",
    "        img_urls.append(\"http://\" + img.get(\"lazy-load\")[2:])\n",
    "\n",
    "prices = []\n",
    "findPrice = html.find_all(\"span\", class_=\"price_info__discount\")\n",
    "for price in findPrice:\n",
    "    prices.append(price.text)\n",
    "\n",
    "for title, img, price in zip(info_titles, img_urls, prices):\n",
    "    result.append({\n",
    "        \"name\" : title, \n",
    "        \"img\" : img, \n",
    "        \"price\" : price\n",
    "        })\n",
    "\n",
    "for item in result:\n",
    "    print(item)\n",
    "\n"
   ]
  },
  {
   "cell_type": "code",
   "execution_count": 23,
   "metadata": {},
   "outputs": [
    {
     "name": "stdout",
     "output_type": "stream",
     "text": [
      "['쿤달 퍼퓸 디퓨저 200ml 3개 + 섬유스틱 15개 세트, 블랙체리향', 'http://thumbnail10.coupangcdn.com/thumbnails/remote/230x230ex/image/retail/images/3671196941445019-5989f3aa-a942-44e8-bacd-fb4e093aa71c.jpg', '21,520원']\n",
      "['설화수 New 자음2종, 1세트', 'http://thumbnail6.coupangcdn.com/thumbnails/remote/230x230ex/image/retail/images/4173917782382193-aecaab22-634d-4570-8e6f-0cad29b2149e.jpg', '112,000원']\n",
      "['동원 튜나리챔 선물세트 O-68호 + 부직포백, 1세트', 'http://thumbnail6.coupangcdn.com/thumbnails/remote/230x230ex/image/retail/images/2023/08/11/17/6/ed6a339d-0284-4516-a9e3-65c6c0d13bca.jpg', '34,900원']\n",
      "['넛츠팜 프리미엄 견과 선물세트 4호, 1150g, 1세트', 'http://thumbnail10.coupangcdn.com/thumbnails/remote/230x230ex/image/product/image/vendoritem/2019/02/15/3025312682/7f05b638-a55a-4037-8e76-1035974e7d86.jpg', '33,930원']\n",
      "['이동갈비 소고기 한입 LA양념갈비 선물세트 (냉동), 500g, 4개', 'http://thumbnail9.coupangcdn.com/thumbnails/remote/230x230ex/image/retail/images/2023/08/16/18/1/11edc5e5-d4b8-475d-aacf-df3002e519bc.jpg', '59,600원']\n",
      "['종근당 침향환 골드, 225g, 1개', 'http://thumbnail7.coupangcdn.com/thumbnails/remote/230x230ex/image/retail/images/1489653006914303-966acf23-cc0e-4c82-86b3-a60ec00416a7.jpg', '58,900원']\n",
      "['떡편 감사세트 1호 24개입 (냉동), 1080g, 1세트', 'http://thumbnail7.coupangcdn.com/thumbnails/remote/230x230ex/image/retail/images/457539561315-406c6eff-2e95-4b8f-8f07-d916ae3a6b61.jpg', '25,900원']\n",
      "['애경 명화의 품격 O-2호 선물세트, 1세트', 'http://thumbnail9.coupangcdn.com/thumbnails/remote/230x230ex/image/retail/images/2023/08/11/15/1/62786b28-5dca-407d-a228-92e3aeebc4fd.jpg', '19,450원']\n",
      "['코멧 깨끗한 천연펄프 키친타월 150매, 8개', 'http://thumbnail10.coupangcdn.com/thumbnails/remote/230x230ex/image/retail/images/702510257453650-55ca429c-1a8e-4385-b70b-1a6dcd0eaffd.jpg', '5,990원']\n",
      "['바디프랜드 레그넘 안마의자 + 러그(랜덤발송) 방문설치, BFK-5000, 오트베이지', 'http://thumbnail9.coupangcdn.com/thumbnails/remote/230x230ex/image/retail/images/1868430085607403-b15e6f7c-1c9a-427d-b49d-40e5b387a5db.jpg', '1,940,000원']\n",
      "['청정원 행복 2호, 1세트', 'http://thumbnail6.coupangcdn.com/thumbnails/remote/230x230ex/image/retail/images/7537201921766957-699400a0-f754-431d-b18b-a3ebd86423fc.jpg', '27,440원']\n",
      "['타야스 투바나 초콜렛, 1600g, 1개', 'http://thumbnail9.coupangcdn.com/thumbnails/remote/230x230ex/image/retail/images/1066053389089338-5e0dd077-2d91-4609-8f9c-4860cb640c1b.jpg', '12,750원']\n"
     ]
    }
   ],
   "source": [
    "# 빈 리스트들을 초기화합니다.\n",
    "result = []\n",
    "\n",
    "# BeautifulSoup를 사용하여 HTML 문서를 파싱합니다.\n",
    "html = bs(response.text)\n",
    "\n",
    "# 정보 제목, 이미지 URL, 가격 정보를 모두 찾습니다.\n",
    "findInfosectionTitle = html.find_all(\"span\", class_=\"info_section__title\")\n",
    "imgs = html.select(\".sale_point_product__product_image > img\")\n",
    "findPrice = html.find_all(\"span\", class_=\"price_info__discount\")\n",
    "\n",
    "# title, img, price를 하나의 리스트로 묶어서 result 리스트에 추가합니다.\n",
    "# 모든 리스트들의 길이는 같다고 가정합니다.\n",
    "for title, img, price in zip(findInfosectionTitle, imgs, findPrice):\n",
    "    result.append([title.text, \"http://\" + img.get(\"lazy-load\")[2:], price.text])\n",
    "\n",
    "# 결과를 출력합니다.\n",
    "for item in result:\n",
    "    print(item)"
   ]
  },
  {
   "cell_type": "code",
   "execution_count": 50,
   "metadata": {},
   "outputs": [
    {
     "data": {
      "text/plain": [
       "[{'productName': '쿤달 퍼퓸 디퓨저 200ml 3개 + 섬유스틱 15개 세트, 블랙체리향',\n",
       "  'price': '21,520원',\n",
       "  'src': 'http://thumbnail10.coupangcdn.com/thumbnails/remote/230x230ex/image/retail/images/3671196941445019-5989f3aa-a942-44e8-bacd-fb4e093aa71c.jpg'},\n",
       " {'productName': '설화수 New 자음2종, 1세트',\n",
       "  'price': '112,000원',\n",
       "  'src': 'http://thumbnail6.coupangcdn.com/thumbnails/remote/230x230ex/image/retail/images/4173917782382193-aecaab22-634d-4570-8e6f-0cad29b2149e.jpg'},\n",
       " {'productName': '동원 튜나리챔 선물세트 O-68호 + 부직포백, 1세트',\n",
       "  'price': '34,900원',\n",
       "  'src': 'http://thumbnail6.coupangcdn.com/thumbnails/remote/230x230ex/image/retail/images/2023/08/11/17/6/ed6a339d-0284-4516-a9e3-65c6c0d13bca.jpg'},\n",
       " {'productName': '넛츠팜 프리미엄 견과 선물세트 4호, 1150g, 1세트',\n",
       "  'price': '33,930원',\n",
       "  'src': 'http://thumbnail10.coupangcdn.com/thumbnails/remote/230x230ex/image/product/image/vendoritem/2019/02/15/3025312682/7f05b638-a55a-4037-8e76-1035974e7d86.jpg'},\n",
       " {'productName': '이동갈비 소고기 한입 LA양념갈비 선물세트 (냉동), 500g, 4개',\n",
       "  'price': '59,600원',\n",
       "  'src': 'http://thumbnail9.coupangcdn.com/thumbnails/remote/230x230ex/image/retail/images/2023/08/16/18/1/11edc5e5-d4b8-475d-aacf-df3002e519bc.jpg'},\n",
       " {'productName': '종근당 침향환 골드, 225g, 1개',\n",
       "  'price': '58,900원',\n",
       "  'src': 'http://thumbnail7.coupangcdn.com/thumbnails/remote/230x230ex/image/retail/images/1489653006914303-966acf23-cc0e-4c82-86b3-a60ec00416a7.jpg'},\n",
       " {'productName': '떡편 감사세트 1호 24개입 (냉동), 1080g, 1세트',\n",
       "  'price': '25,900원',\n",
       "  'src': 'http://thumbnail7.coupangcdn.com/thumbnails/remote/230x230ex/image/retail/images/457539561315-406c6eff-2e95-4b8f-8f07-d916ae3a6b61.jpg'},\n",
       " {'productName': '애경 명화의 품격 O-2호 선물세트, 1세트',\n",
       "  'price': '19,450원',\n",
       "  'src': 'http://thumbnail9.coupangcdn.com/thumbnails/remote/230x230ex/image/retail/images/2023/08/11/15/1/62786b28-5dca-407d-a228-92e3aeebc4fd.jpg'},\n",
       " {'productName': '코멧 깨끗한 천연펄프 키친타월 150매, 8개',\n",
       "  'price': '5,990원',\n",
       "  'src': 'http://thumbnail10.coupangcdn.com/thumbnails/remote/230x230ex/image/retail/images/702510257453650-55ca429c-1a8e-4385-b70b-1a6dcd0eaffd.jpg'},\n",
       " {'productName': '바디프랜드 레그넘 안마의자 + 러그(랜덤발송) 방문설치, BFK-5000, 오트베이지',\n",
       "  'price': '1,940,000원',\n",
       "  'src': 'http://thumbnail9.coupangcdn.com/thumbnails/remote/230x230ex/image/retail/images/1868430085607403-b15e6f7c-1c9a-427d-b49d-40e5b387a5db.jpg'},\n",
       " {'productName': '청정원 행복 2호, 1세트',\n",
       "  'price': '27,440원',\n",
       "  'src': 'http://thumbnail6.coupangcdn.com/thumbnails/remote/230x230ex/image/retail/images/7537201921766957-699400a0-f754-431d-b18b-a3ebd86423fc.jpg'},\n",
       " {'productName': '타야스 투바나 초콜렛, 1600g, 1개',\n",
       "  'price': '12,750원',\n",
       "  'src': 'http://thumbnail9.coupangcdn.com/thumbnails/remote/230x230ex/image/retail/images/1066053389089338-5e0dd077-2d91-4609-8f9c-4860cb640c1b.jpg'},\n",
       " {'productName': '', 'price': '', 'src': ''},\n",
       " {'productName': '', 'price': '', 'src': ''},\n",
       " {'productName': '', 'price': '', 'src': ''},\n",
       " {'productName': '', 'price': '', 'src': ''}]"
      ]
     },
     "execution_count": 50,
     "metadata": {},
     "output_type": "execute_result"
    }
   ],
   "source": [
    "import requests\n",
    "from bs4 import BeautifulSoup as bs\n",
    "\n",
    "url = \"https://pages.coupang.com/p/96636\"\n",
    "\n",
    "response = requests.get(url)\n",
    "\n",
    "html = bs(response.text)\n",
    "sale_point_prodects = html.select(\".sale_point_products .sale_point_product\")\n",
    "\n",
    "productList = []\n",
    "\n",
    "for product in sale_point_prodects:\n",
    "\n",
    "    productName = product.select_one(\".info_section__title\").text\n",
    "    price = product.select_one(\".price_info__discount\")\n",
    "    price = price.text if price != None else \"\"\n",
    "    src = product.select_one(\".sale_point_product__product_image > img\").get(\"lazy-load\")\n",
    "    src = \"http:\" + src if src != None else \"\"\n",
    "\n",
    "    productDict = {\n",
    "        \"productName\" : productName,\n",
    "        \"price\" : price,\n",
    "        \"src\" : src\n",
    "    }\n",
    "\n",
    "    productList.append(productDict)\n",
    "\n",
    "productList"
   ]
  },
  {
   "cell_type": "code",
   "execution_count": 52,
   "metadata": {},
   "outputs": [
    {
     "data": {
      "text/plain": [
       "[]"
      ]
     },
     "execution_count": 52,
     "metadata": {},
     "output_type": "execute_result"
    }
   ],
   "source": [
    "import requests\n",
    "from bs4 import BeautifulSoup as bs\n",
    "\n",
    "url = \"https://comic.naver.com/webtoon?tab=mon&week=mon\"\n",
    "\n",
    "response = requests.get(url)\n",
    "\n",
    "html = bs(response.text)\n",
    "\n",
    "sale_point_prodects = html.select(\".ContentList__content_list--q5KXY .ContentList__content_list--q5KXY\")\n",
    "\n",
    "productList = []\n",
    "\n",
    "for product in sale_point_prodects:\n",
    "\n",
    "    src = product.select_one(\".Poster__image--d9XTI > img\").get(\"lazy-load\")\n",
    "    src = \"http:\" + src if src != None else \"\"\n",
    "    title = product.select_one(\".ContentTitle__title_area--x24vt\").text\n",
    "    author = author.select_one(\".ContentAuthor__author_wrap--fV7Lo\")\n",
    "    author = author.text if author != None else \"\"\n",
    "    rating = rating.select_one(\".Rating__star_area--dFzsb\")\n",
    "    rating = rating.text if rating != None else \"\"\n",
    "    \n",
    "\n",
    "    productDict = {\n",
    "        \"src\" : src,\n",
    "        \"title\" : title,\n",
    "        \"author\" : author,\n",
    "        \"rating\" : rating\n",
    "        \n",
    "    }\n",
    "\n",
    "    productList.append(productDict)\n",
    "\n",
    "productList"
   ]
  }
 ],
 "metadata": {
  "kernelspec": {
   "display_name": "base",
   "language": "python",
   "name": "python3"
  },
  "language_info": {
   "codemirror_mode": {
    "name": "ipython",
    "version": 3
   },
   "file_extension": ".py",
   "mimetype": "text/x-python",
   "name": "python",
   "nbconvert_exporter": "python",
   "pygments_lexer": "ipython3",
   "version": "3.11.5"
  },
  "orig_nbformat": 4
 },
 "nbformat": 4,
 "nbformat_minor": 2
}
